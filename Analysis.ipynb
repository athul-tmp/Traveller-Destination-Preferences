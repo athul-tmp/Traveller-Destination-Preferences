{
 "cells": [
  {
   "cell_type": "markdown",
   "id": "febe1603",
   "metadata": {},
   "source": [
    "# Assignment 2 - Practical Data Science"
   ]
  },
  {
   "cell_type": "markdown",
   "id": "512e1f99",
   "metadata": {},
   "source": [
    "### Student Name: Athul Varghese Thampan\n",
    "### Student ID: S3958556"
   ]
  },
  {
   "cell_type": "markdown",
   "id": "4d5dd0ff",
   "metadata": {},
   "source": [
    "## Task 1: Retrieving and Preparing the Data"
   ]
  },
  {
   "cell_type": "code",
   "execution_count": 1,
   "id": "41d71626",
   "metadata": {},
   "outputs": [
    {
     "data": {
      "text/html": [
       "<div>\n",
       "<style scoped>\n",
       "    .dataframe tbody tr th:only-of-type {\n",
       "        vertical-align: middle;\n",
       "    }\n",
       "\n",
       "    .dataframe tbody tr th {\n",
       "        vertical-align: top;\n",
       "    }\n",
       "\n",
       "    .dataframe thead th {\n",
       "        text-align: right;\n",
       "    }\n",
       "</style>\n",
       "<table border=\"1\" class=\"dataframe\">\n",
       "  <thead>\n",
       "    <tr style=\"text-align: right;\">\n",
       "      <th></th>\n",
       "      <th>User Id</th>\n",
       "      <th>Sports</th>\n",
       "      <th>Religious</th>\n",
       "      <th>Nature</th>\n",
       "      <th>Theatre</th>\n",
       "      <th>Shopping</th>\n",
       "      <th>Picnic</th>\n",
       "    </tr>\n",
       "  </thead>\n",
       "  <tbody>\n",
       "    <tr>\n",
       "      <th>0</th>\n",
       "      <td>User 1</td>\n",
       "      <td>2</td>\n",
       "      <td>77</td>\n",
       "      <td>79</td>\n",
       "      <td>69</td>\n",
       "      <td>68</td>\n",
       "      <td>95</td>\n",
       "    </tr>\n",
       "    <tr>\n",
       "      <th>1</th>\n",
       "      <td>User 2</td>\n",
       "      <td>2</td>\n",
       "      <td>62</td>\n",
       "      <td>76</td>\n",
       "      <td>76</td>\n",
       "      <td>69</td>\n",
       "      <td>68</td>\n",
       "    </tr>\n",
       "    <tr>\n",
       "      <th>2</th>\n",
       "      <td>User 3</td>\n",
       "      <td>2</td>\n",
       "      <td>50</td>\n",
       "      <td>97</td>\n",
       "      <td>87</td>\n",
       "      <td>50</td>\n",
       "      <td>75</td>\n",
       "    </tr>\n",
       "    <tr>\n",
       "      <th>3</th>\n",
       "      <td>User 4</td>\n",
       "      <td>2</td>\n",
       "      <td>68</td>\n",
       "      <td>77</td>\n",
       "      <td>95</td>\n",
       "      <td>76</td>\n",
       "      <td>61</td>\n",
       "    </tr>\n",
       "    <tr>\n",
       "      <th>4</th>\n",
       "      <td>User 5</td>\n",
       "      <td>2</td>\n",
       "      <td>98</td>\n",
       "      <td>54</td>\n",
       "      <td>59</td>\n",
       "      <td>95</td>\n",
       "      <td>86</td>\n",
       "    </tr>\n",
       "  </tbody>\n",
       "</table>\n",
       "</div>"
      ],
      "text/plain": [
       "  User Id  Sports  Religious  Nature  Theatre  Shopping  Picnic\n",
       "0  User 1       2         77      79       69        68      95\n",
       "1  User 2       2         62      76       76        69      68\n",
       "2  User 3       2         50      97       87        50      75\n",
       "3  User 4       2         68      77       95        76      61\n",
       "4  User 5       2         98      54       59        95      86"
      ]
     },
     "execution_count": 1,
     "metadata": {},
     "output_type": "execute_result"
    }
   ],
   "source": [
    "# import the necessary libraries\n",
    "import pandas as pd\n",
    "import matplotlib.pyplot as plt\n",
    "\n",
    "# read in the csv file\n",
    "df = pd.read_csv('buddymove_holidayiq.csv', sep=',', decimal='.')\n",
    "\n",
    "# print the first 5 rows\n",
    "df.head()"
   ]
  },
  {
   "cell_type": "code",
   "execution_count": 2,
   "id": "db363602",
   "metadata": {},
   "outputs": [
    {
     "data": {
      "text/plain": [
       "User Id      object\n",
       "Sports        int64\n",
       "Religious     int64\n",
       "Nature        int64\n",
       "Theatre       int64\n",
       "Shopping      int64\n",
       "Picnic        int64\n",
       "dtype: object"
      ]
     },
     "execution_count": 2,
     "metadata": {},
     "output_type": "execute_result"
    }
   ],
   "source": [
    "# check the data types\n",
    "df.dtypes"
   ]
  },
  {
   "cell_type": "code",
   "execution_count": 3,
   "id": "85be13ae",
   "metadata": {},
   "outputs": [
    {
     "data": {
      "text/plain": [
       "False"
      ]
     },
     "execution_count": 3,
     "metadata": {},
     "output_type": "execute_result"
    }
   ],
   "source": [
    "# check if there are any null values present\n",
    "df.isnull().values.any()"
   ]
  },
  {
   "cell_type": "code",
   "execution_count": 4,
   "id": "2bad8aa0",
   "metadata": {},
   "outputs": [
    {
     "data": {
      "text/html": [
       "<div>\n",
       "<style scoped>\n",
       "    .dataframe tbody tr th:only-of-type {\n",
       "        vertical-align: middle;\n",
       "    }\n",
       "\n",
       "    .dataframe tbody tr th {\n",
       "        vertical-align: top;\n",
       "    }\n",
       "\n",
       "    .dataframe thead th {\n",
       "        text-align: right;\n",
       "    }\n",
       "</style>\n",
       "<table border=\"1\" class=\"dataframe\">\n",
       "  <thead>\n",
       "    <tr style=\"text-align: right;\">\n",
       "      <th></th>\n",
       "      <th>Sports</th>\n",
       "      <th>Religious</th>\n",
       "      <th>Nature</th>\n",
       "      <th>Theatre</th>\n",
       "      <th>Shopping</th>\n",
       "      <th>Picnic</th>\n",
       "    </tr>\n",
       "  </thead>\n",
       "  <tbody>\n",
       "    <tr>\n",
       "      <th>0</th>\n",
       "      <td>2</td>\n",
       "      <td>77</td>\n",
       "      <td>79</td>\n",
       "      <td>69</td>\n",
       "      <td>68</td>\n",
       "      <td>95</td>\n",
       "    </tr>\n",
       "    <tr>\n",
       "      <th>1</th>\n",
       "      <td>2</td>\n",
       "      <td>62</td>\n",
       "      <td>76</td>\n",
       "      <td>76</td>\n",
       "      <td>69</td>\n",
       "      <td>68</td>\n",
       "    </tr>\n",
       "    <tr>\n",
       "      <th>2</th>\n",
       "      <td>2</td>\n",
       "      <td>50</td>\n",
       "      <td>97</td>\n",
       "      <td>87</td>\n",
       "      <td>50</td>\n",
       "      <td>75</td>\n",
       "    </tr>\n",
       "    <tr>\n",
       "      <th>3</th>\n",
       "      <td>2</td>\n",
       "      <td>68</td>\n",
       "      <td>77</td>\n",
       "      <td>95</td>\n",
       "      <td>76</td>\n",
       "      <td>61</td>\n",
       "    </tr>\n",
       "    <tr>\n",
       "      <th>4</th>\n",
       "      <td>2</td>\n",
       "      <td>98</td>\n",
       "      <td>54</td>\n",
       "      <td>59</td>\n",
       "      <td>95</td>\n",
       "      <td>86</td>\n",
       "    </tr>\n",
       "    <tr>\n",
       "      <th>...</th>\n",
       "      <td>...</td>\n",
       "      <td>...</td>\n",
       "      <td>...</td>\n",
       "      <td>...</td>\n",
       "      <td>...</td>\n",
       "      <td>...</td>\n",
       "    </tr>\n",
       "    <tr>\n",
       "      <th>244</th>\n",
       "      <td>18</td>\n",
       "      <td>139</td>\n",
       "      <td>148</td>\n",
       "      <td>129</td>\n",
       "      <td>129</td>\n",
       "      <td>168</td>\n",
       "    </tr>\n",
       "    <tr>\n",
       "      <th>245</th>\n",
       "      <td>22</td>\n",
       "      <td>114</td>\n",
       "      <td>228</td>\n",
       "      <td>104</td>\n",
       "      <td>84</td>\n",
       "      <td>168</td>\n",
       "    </tr>\n",
       "    <tr>\n",
       "      <th>246</th>\n",
       "      <td>20</td>\n",
       "      <td>124</td>\n",
       "      <td>178</td>\n",
       "      <td>104</td>\n",
       "      <td>158</td>\n",
       "      <td>174</td>\n",
       "    </tr>\n",
       "    <tr>\n",
       "      <th>247</th>\n",
       "      <td>20</td>\n",
       "      <td>133</td>\n",
       "      <td>149</td>\n",
       "      <td>139</td>\n",
       "      <td>144</td>\n",
       "      <td>213</td>\n",
       "    </tr>\n",
       "    <tr>\n",
       "      <th>248</th>\n",
       "      <td>20</td>\n",
       "      <td>143</td>\n",
       "      <td>149</td>\n",
       "      <td>139</td>\n",
       "      <td>159</td>\n",
       "      <td>143</td>\n",
       "    </tr>\n",
       "  </tbody>\n",
       "</table>\n",
       "<p>249 rows × 6 columns</p>\n",
       "</div>"
      ],
      "text/plain": [
       "     Sports  Religious  Nature  Theatre  Shopping  Picnic\n",
       "0         2         77      79       69        68      95\n",
       "1         2         62      76       76        69      68\n",
       "2         2         50      97       87        50      75\n",
       "3         2         68      77       95        76      61\n",
       "4         2         98      54       59        95      86\n",
       "..      ...        ...     ...      ...       ...     ...\n",
       "244      18        139     148      129       129     168\n",
       "245      22        114     228      104        84     168\n",
       "246      20        124     178      104       158     174\n",
       "247      20        133     149      139       144     213\n",
       "248      20        143     149      139       159     143\n",
       "\n",
       "[249 rows x 6 columns]"
      ]
     },
     "execution_count": 4,
     "metadata": {},
     "output_type": "execute_result"
    }
   ],
   "source": [
    "# drop 'User Id'\n",
    "df = df.drop(columns=['User Id'])\n",
    "df"
   ]
  },
  {
   "cell_type": "markdown",
   "id": "13ebc350",
   "metadata": {},
   "source": [
    "## Task 2: Data Exploration"
   ]
  },
  {
   "cell_type": "code",
   "execution_count": 5,
   "id": "176b139d",
   "metadata": {},
   "outputs": [
    {
     "data": {
      "text/html": [
       "<div>\n",
       "<style scoped>\n",
       "    .dataframe tbody tr th:only-of-type {\n",
       "        vertical-align: middle;\n",
       "    }\n",
       "\n",
       "    .dataframe tbody tr th {\n",
       "        vertical-align: top;\n",
       "    }\n",
       "\n",
       "    .dataframe thead th {\n",
       "        text-align: right;\n",
       "    }\n",
       "</style>\n",
       "<table border=\"1\" class=\"dataframe\">\n",
       "  <thead>\n",
       "    <tr style=\"text-align: right;\">\n",
       "      <th></th>\n",
       "      <th>Sports</th>\n",
       "      <th>Religious</th>\n",
       "      <th>Nature</th>\n",
       "      <th>Theatre</th>\n",
       "      <th>Shopping</th>\n",
       "      <th>Picnic</th>\n",
       "    </tr>\n",
       "  </thead>\n",
       "  <tbody>\n",
       "    <tr>\n",
       "      <th>count</th>\n",
       "      <td>249.000000</td>\n",
       "      <td>249.000000</td>\n",
       "      <td>249.000000</td>\n",
       "      <td>249.000000</td>\n",
       "      <td>249.000000</td>\n",
       "      <td>249.000000</td>\n",
       "    </tr>\n",
       "    <tr>\n",
       "      <th>mean</th>\n",
       "      <td>11.987952</td>\n",
       "      <td>109.779116</td>\n",
       "      <td>124.518072</td>\n",
       "      <td>116.377510</td>\n",
       "      <td>112.638554</td>\n",
       "      <td>120.401606</td>\n",
       "    </tr>\n",
       "    <tr>\n",
       "      <th>std</th>\n",
       "      <td>6.616501</td>\n",
       "      <td>32.454115</td>\n",
       "      <td>45.639372</td>\n",
       "      <td>32.132696</td>\n",
       "      <td>41.562888</td>\n",
       "      <td>32.633339</td>\n",
       "    </tr>\n",
       "    <tr>\n",
       "      <th>min</th>\n",
       "      <td>2.000000</td>\n",
       "      <td>50.000000</td>\n",
       "      <td>52.000000</td>\n",
       "      <td>59.000000</td>\n",
       "      <td>50.000000</td>\n",
       "      <td>61.000000</td>\n",
       "    </tr>\n",
       "    <tr>\n",
       "      <th>25%</th>\n",
       "      <td>6.000000</td>\n",
       "      <td>84.000000</td>\n",
       "      <td>89.000000</td>\n",
       "      <td>93.000000</td>\n",
       "      <td>79.000000</td>\n",
       "      <td>92.000000</td>\n",
       "    </tr>\n",
       "    <tr>\n",
       "      <th>50%</th>\n",
       "      <td>12.000000</td>\n",
       "      <td>104.000000</td>\n",
       "      <td>119.000000</td>\n",
       "      <td>113.000000</td>\n",
       "      <td>104.000000</td>\n",
       "      <td>119.000000</td>\n",
       "    </tr>\n",
       "    <tr>\n",
       "      <th>75%</th>\n",
       "      <td>18.000000</td>\n",
       "      <td>132.000000</td>\n",
       "      <td>153.000000</td>\n",
       "      <td>138.000000</td>\n",
       "      <td>138.000000</td>\n",
       "      <td>143.000000</td>\n",
       "    </tr>\n",
       "    <tr>\n",
       "      <th>max</th>\n",
       "      <td>25.000000</td>\n",
       "      <td>203.000000</td>\n",
       "      <td>318.000000</td>\n",
       "      <td>213.000000</td>\n",
       "      <td>233.000000</td>\n",
       "      <td>218.000000</td>\n",
       "    </tr>\n",
       "  </tbody>\n",
       "</table>\n",
       "</div>"
      ],
      "text/plain": [
       "           Sports   Religious      Nature     Theatre    Shopping      Picnic\n",
       "count  249.000000  249.000000  249.000000  249.000000  249.000000  249.000000\n",
       "mean    11.987952  109.779116  124.518072  116.377510  112.638554  120.401606\n",
       "std      6.616501   32.454115   45.639372   32.132696   41.562888   32.633339\n",
       "min      2.000000   50.000000   52.000000   59.000000   50.000000   61.000000\n",
       "25%      6.000000   84.000000   89.000000   93.000000   79.000000   92.000000\n",
       "50%     12.000000  104.000000  119.000000  113.000000  104.000000  119.000000\n",
       "75%     18.000000  132.000000  153.000000  138.000000  138.000000  143.000000\n",
       "max     25.000000  203.000000  318.000000  213.000000  233.000000  218.000000"
      ]
     },
     "execution_count": 5,
     "metadata": {},
     "output_type": "execute_result"
    }
   ],
   "source": [
    "df.describe()"
   ]
  },
  {
   "cell_type": "code",
   "execution_count": 6,
   "id": "759b49aa",
   "metadata": {
    "scrolled": false
   },
   "outputs": [
    {
     "name": "stdout",
     "output_type": "stream",
     "text": [
      "\n",
      "Descriptive statistics for column 'Sports':\n",
      "count    249.000000\n",
      "mean      11.987952\n",
      "std        6.616501\n",
      "min        2.000000\n",
      "25%        6.000000\n",
      "50%       12.000000\n",
      "75%       18.000000\n",
      "max       25.000000\n",
      "Name: Sports, dtype: float64\n"
     ]
    },
    {
     "data": {
      "image/png": "[encoded data removed]",
      "text/plain": [
       "<Figure size 576x432 with 1 Axes>"
      ]
     },
     "metadata": {
      "needs_background": "light"
     },
     "output_type": "display_data"
    },
    {
     "name": "stdout",
     "output_type": "stream",
     "text": [
      "\n",
      "Descriptive statistics for column 'Religious':\n",
      "count    249.000000\n",
      "mean     109.779116\n",
      "std       32.454115\n",
      "min       50.000000\n",
      "25%       84.000000\n",
      "50%      104.000000\n",
      "75%      132.000000\n",
      "max      203.000000\n",
      "Name: Religious, dtype: float64\n"
     ]
    },
    {
     "data": {
      "image/png": "[encoded data removed]",
      "text/plain": [
       "<Figure size 576x432 with 1 Axes>"
      ]
     },
     "metadata": {
      "needs_background": "light"
     },
     "output_type": "display_data"
    },
    {
     "name": "stdout",
     "output_type": "stream",
     "text": [
      "\n",
      "Descriptive statistics for column 'Nature':\n",
      "count    249.000000\n",
      "mean     124.518072\n",
      "std       45.639372\n",
      "min       52.000000\n",
      "25%       89.000000\n",
      "50%      119.000000\n",
      "75%      153.000000\n",
      "max      318.000000\n",
      "Name: Nature, dtype: float64\n"
     ]
    },
    {
     "data": {
      "image/png": "[encoded data removed]",
      "text/plain": [
       "<Figure size 576x432 with 1 Axes>"
      ]
     },
     "metadata": {
      "needs_background": "light"
     },
     "output_type": "display_data"
    },
    {
     "name": "stdout",
     "output_type": "stream",
     "text": [
      "\n",
      "Descriptive statistics for column 'Theatre':\n",
      "count    249.000000\n",
      "mean     116.377510\n",
      "std       32.132696\n",
      "min       59.000000\n",
      "25%       93.000000\n",
      "50%      113.000000\n",
      "75%      138.000000\n",
      "max      213.000000\n",
      "Name: Theatre, dtype: float64\n"
     ]
    },
    {
     "data": {
      "image/png": "[encoded data removed]",
      "text/plain": [
       "<Figure size 576x432 with 1 Axes>"
      ]
     },
     "metadata": {
      "needs_background": "light"
     },
     "output_type": "display_data"
    },
    {
     "name": "stdout",
     "output_type": "stream",
     "text": [
      "\n",
      "Descriptive statistics for column 'Shopping':\n",
      "count    249.000000\n",
      "mean     112.638554\n",
      "std       41.562888\n",
      "min       50.000000\n",
      "25%       79.000000\n",
      "50%      104.000000\n",
      "75%      138.000000\n",
      "max      233.000000\n",
      "Name: Shopping, dtype: float64\n"
     ]
    },
    {
     "data": {
      "image/png": "[encoded data removed]",
      "text/plain": [
       "<Figure size 576x432 with 1 Axes>"
      ]
     },
     "metadata": {
      "needs_background": "light"
     },
     "output_type": "display_data"
    },
    {
     "name": "stdout",
     "output_type": "stream",
     "text": [
      "\n",
      "Descriptive statistics for column 'Picnic':\n",
      "count    249.000000\n",
      "mean     120.401606\n",
      "std       32.633339\n",
      "min       61.000000\n",
      "25%       92.000000\n",
      "50%      119.000000\n",
      "75%      143.000000\n",
      "max      218.000000\n",
      "Name: Picnic, dtype: float64\n"
     ]
    },
    {
     "data": {
      "image/png": "[encoded data removed]",
      "text/plain": [
       "<Figure size 576x432 with 1 Axes>"
      ]
     },
     "metadata": {
      "needs_background": "light"
     },
     "output_type": "display_data"
    }
   ],
   "source": [
    "# Explore each column\n",
    "columns_to_explore = ['Sports', 'Religious', 'Nature', 'Theatre', 'Shopping', 'Picnic']\n",
    "\n",
    "for col in columns_to_explore:\n",
    "    # Calculate descriptive statistics\n",
    "    print(f\"\\nDescriptive statistics for column '{col}':\")\n",
    "    print(df[col].describe())\n",
    "    \n",
    "    # Plot histogram\n",
    "    plt.figure(figsize=(8, 6))\n",
    "    plt.hist(df[col], color=\"blue\")\n",
    "    plt.title(f\"Distribution of {col}\")\n",
    "    plt.xlabel(\"Number of Reviews\")\n",
    "    plt.ylabel(\"Frequency\")\n",
    "    plt.grid(True)\n",
    "    plt.show()"
   ]
  },
  {
   "cell_type": "code",
   "execution_count": 7,
   "id": "a9d416d9",
   "metadata": {
    "scrolled": false
   },
   "outputs": [
    {
     "data": {
      "image/png": "[encoded data removed]",
      "text/plain": [
       "<Figure size 864x864 with 36 Axes>"
      ]
     },
     "metadata": {
      "needs_background": "light"
     },
     "output_type": "display_data"
    }
   ],
   "source": [
    "# Scatter matrix\n",
    "from pandas.plotting import scatter_matrix\n",
    "scatter_matrix(df,alpha=0.2,figsize=(12,12),diagonal='hist', color='red')\n",
    "plt.show()"
   ]
  },
  {
   "cell_type": "code",
   "execution_count": 8,
   "id": "4c09ad02",
   "metadata": {},
   "outputs": [
    {
     "data": {
      "image/png": "[encoded data removed]",
      "text/plain": [
       "<Figure size 432x288 with 1 Axes>"
      ]
     },
     "metadata": {
      "needs_background": "light"
     },
     "output_type": "display_data"
    }
   ],
   "source": [
    "# scatterplot of x='Shopping', y='Religious'\n",
    "df.plot(kind='scatter', x='Shopping', y='Religious', color='blue')\n",
    "plt.title('Religious vs Shopping')\n",
    "plt.show()"
   ]
  },
  {
   "cell_type": "code",
   "execution_count": 9,
   "id": "c555e601",
   "metadata": {},
   "outputs": [
    {
     "data": {
      "image/png": "[encoded data removed]",
      "text/plain": [
       "<Figure size 432x288 with 1 Axes>"
      ]
     },
     "metadata": {
      "needs_background": "light"
     },
     "output_type": "display_data"
    }
   ],
   "source": [
    "# scatterplot of x='Sports', y='Picnic'\n",
    "df.plot(kind='scatter', x='Sports', y='Picnic', color='green')\n",
    "plt.title('Picnic vs Sports')\n",
    "plt.show()"
   ]
  },
  {
   "cell_type": "markdown",
   "id": "619cf296",
   "metadata": {},
   "source": [
    "# Task 3: Data Modelling (Classification)"
   ]
  },
  {
   "cell_type": "markdown",
   "id": "1a3c016d",
   "metadata": {},
   "source": [
    "## Religious vs Shopping "
   ]
  },
  {
   "cell_type": "markdown",
   "id": "0e8e00dc",
   "metadata": {},
   "source": [
    "### Generating train/test set"
   ]
  },
  {
   "cell_type": "code",
   "execution_count": 10,
   "id": "e4ad858b",
   "metadata": {},
   "outputs": [],
   "source": [
    "from sklearn.model_selection import train_test_split"
   ]
  },
  {
   "cell_type": "code",
   "execution_count": 11,
   "id": "86b437ef",
   "metadata": {},
   "outputs": [],
   "source": [
    "df['Shopping_interest'] = (df['Shopping'] > df['Shopping'].mean()).astype(int)"
   ]
  },
  {
   "cell_type": "code",
   "execution_count": 12,
   "id": "0bb4df1e",
   "metadata": {},
   "outputs": [],
   "source": [
    "# Define features X and target Y\n",
    "X = df[['Religious']].values\n",
    "y = df['Shopping_interest'].values"
   ]
  },
  {
   "cell_type": "code",
   "execution_count": 13,
   "id": "69f36a1d",
   "metadata": {},
   "outputs": [],
   "source": [
    "X_train, X_test, y_train, y_test = train_test_split(X,y,test_size=0.50,random_state=4)"
   ]
  },
  {
   "cell_type": "code",
   "execution_count": 14,
   "id": "eb71a932",
   "metadata": {
    "scrolled": true
   },
   "outputs": [
    {
     "data": {
      "text/plain": [
       "array([[188],\n",
       "       [ 89],\n",
       "       [173],\n",
       "       [ 79],\n",
       "       [114],\n",
       "       [123],\n",
       "       [113],\n",
       "       [ 96],\n",
       "       [ 83],\n",
       "       [139],\n",
       "       [163],\n",
       "       [109],\n",
       "       [114],\n",
       "       [ 94],\n",
       "       [188],\n",
       "       [128],\n",
       "       [128],\n",
       "       [113],\n",
       "       [ 82],\n",
       "       [ 79],\n",
       "       [ 84],\n",
       "       [118],\n",
       "       [148],\n",
       "       [128],\n",
       "       [ 56],\n",
       "       [ 84],\n",
       "       [103],\n",
       "       [163],\n",
       "       [114],\n",
       "       [ 98],\n",
       "       [148],\n",
       "       [143],\n",
       "       [ 76],\n",
       "       [105],\n",
       "       [ 86],\n",
       "       [ 99],\n",
       "       [104],\n",
       "       [ 59],\n",
       "       [ 69],\n",
       "       [ 83],\n",
       "       [144],\n",
       "       [114],\n",
       "       [ 79],\n",
       "       [148],\n",
       "       [113],\n",
       "       [ 94],\n",
       "       [138],\n",
       "       [ 84],\n",
       "       [168],\n",
       "       [ 64],\n",
       "       [ 93],\n",
       "       [ 74],\n",
       "       [ 74],\n",
       "       [ 87],\n",
       "       [124],\n",
       "       [ 98],\n",
       "       [114],\n",
       "       [162],\n",
       "       [198],\n",
       "       [ 71],\n",
       "       [118],\n",
       "       [ 69],\n",
       "       [114],\n",
       "       [ 84],\n",
       "       [ 99],\n",
       "       [114],\n",
       "       [ 74],\n",
       "       [143],\n",
       "       [188],\n",
       "       [178],\n",
       "       [ 99],\n",
       "       [ 84],\n",
       "       [133],\n",
       "       [ 94],\n",
       "       [ 68],\n",
       "       [128],\n",
       "       [120],\n",
       "       [100],\n",
       "       [139],\n",
       "       [ 98],\n",
       "       [114],\n",
       "       [178],\n",
       "       [153],\n",
       "       [ 94],\n",
       "       [119],\n",
       "       [103],\n",
       "       [ 74],\n",
       "       [133],\n",
       "       [ 51],\n",
       "       [ 74],\n",
       "       [133],\n",
       "       [178],\n",
       "       [ 98],\n",
       "       [128],\n",
       "       [114],\n",
       "       [ 79],\n",
       "       [105],\n",
       "       [104],\n",
       "       [ 77],\n",
       "       [ 89],\n",
       "       [ 79],\n",
       "       [128],\n",
       "       [ 91],\n",
       "       [ 93],\n",
       "       [ 90],\n",
       "       [ 79],\n",
       "       [129],\n",
       "       [ 84],\n",
       "       [124],\n",
       "       [108],\n",
       "       [ 84],\n",
       "       [123],\n",
       "       [ 69],\n",
       "       [138],\n",
       "       [133],\n",
       "       [148],\n",
       "       [153],\n",
       "       [123],\n",
       "       [ 83],\n",
       "       [148],\n",
       "       [148],\n",
       "       [188],\n",
       "       [148],\n",
       "       [ 81]])"
      ]
     },
     "execution_count": 14,
     "metadata": {},
     "output_type": "execute_result"
    }
   ],
   "source": [
    "X_train"
   ]
  },
  {
   "cell_type": "code",
   "execution_count": 15,
   "id": "0a9f39bf",
   "metadata": {},
   "outputs": [
    {
     "data": {
      "text/plain": [
       "(124, 1)"
      ]
     },
     "execution_count": 15,
     "metadata": {},
     "output_type": "execute_result"
    }
   ],
   "source": [
    "X_train.shape"
   ]
  },
  {
   "cell_type": "code",
   "execution_count": 16,
   "id": "21a2ad4a",
   "metadata": {},
   "outputs": [
    {
     "data": {
      "text/plain": [
       "array([1, 1, 1, 0, 0, 0, 0, 0, 0, 1, 1, 1, 0, 1, 1, 0, 1, 0, 0, 0, 0, 0,\n",
       "       1, 1, 0, 0, 0, 1, 1, 0, 1, 1, 0, 1, 0, 0, 0, 0, 0, 0, 1, 1, 0, 1,\n",
       "       0, 1, 1, 0, 1, 0, 0, 0, 0, 0, 1, 0, 1, 1, 1, 0, 1, 0, 0, 0, 0, 0,\n",
       "       0, 1, 1, 1, 0, 0, 1, 0, 0, 1, 1, 0, 1, 0, 1, 1, 1, 0, 1, 0, 0, 1,\n",
       "       0, 0, 1, 1, 0, 1, 1, 0, 1, 1, 0, 0, 0, 0, 0, 0, 0, 0, 0, 0, 1, 0,\n",
       "       0, 1, 0, 1, 0, 1, 1, 1, 0, 1, 1, 1, 1, 0])"
      ]
     },
     "execution_count": 16,
     "metadata": {},
     "output_type": "execute_result"
    }
   ],
   "source": [
    "y_train"
   ]
  },
  {
   "cell_type": "code",
   "execution_count": 17,
   "id": "c74bd99e",
   "metadata": {},
   "outputs": [
    {
     "data": {
      "text/plain": [
       "(124,)"
      ]
     },
     "execution_count": 17,
     "metadata": {},
     "output_type": "execute_result"
    }
   ],
   "source": [
    "y_train.shape"
   ]
  },
  {
   "cell_type": "code",
   "execution_count": 18,
   "id": "d8684d19",
   "metadata": {
    "scrolled": true
   },
   "outputs": [
    {
     "data": {
      "text/plain": [
       "array([[ 88],\n",
       "       [ 93],\n",
       "       [ 93],\n",
       "       [ 64],\n",
       "       [ 98],\n",
       "       [114],\n",
       "       [ 89],\n",
       "       [138],\n",
       "       [114],\n",
       "       [103],\n",
       "       [ 93],\n",
       "       [168],\n",
       "       [ 84],\n",
       "       [ 84],\n",
       "       [ 94],\n",
       "       [124],\n",
       "       [101],\n",
       "       [109],\n",
       "       [137],\n",
       "       [153],\n",
       "       [ 89],\n",
       "       [ 93],\n",
       "       [114],\n",
       "       [ 88],\n",
       "       [ 97],\n",
       "       [ 74],\n",
       "       [143],\n",
       "       [ 79],\n",
       "       [143],\n",
       "       [114],\n",
       "       [120],\n",
       "       [ 84],\n",
       "       [ 93],\n",
       "       [ 63],\n",
       "       [123],\n",
       "       [139],\n",
       "       [ 87],\n",
       "       [ 89],\n",
       "       [ 84],\n",
       "       [ 62],\n",
       "       [ 85],\n",
       "       [104],\n",
       "       [ 89],\n",
       "       [ 84],\n",
       "       [147],\n",
       "       [173],\n",
       "       [113],\n",
       "       [143],\n",
       "       [ 93],\n",
       "       [118],\n",
       "       [128],\n",
       "       [ 99],\n",
       "       [ 84],\n",
       "       [115],\n",
       "       [ 59],\n",
       "       [ 94],\n",
       "       [108],\n",
       "       [108],\n",
       "       [143],\n",
       "       [ 88],\n",
       "       [ 99],\n",
       "       [ 93],\n",
       "       [128],\n",
       "       [ 79],\n",
       "       [113],\n",
       "       [ 99],\n",
       "       [ 84],\n",
       "       [158],\n",
       "       [ 69],\n",
       "       [ 64],\n",
       "       [104],\n",
       "       [ 99],\n",
       "       [139],\n",
       "       [178],\n",
       "       [118],\n",
       "       [ 64],\n",
       "       [118],\n",
       "       [203],\n",
       "       [ 84],\n",
       "       [138],\n",
       "       [113],\n",
       "       [ 98],\n",
       "       [123],\n",
       "       [ 59],\n",
       "       [ 69],\n",
       "       [163],\n",
       "       [153],\n",
       "       [133],\n",
       "       [114],\n",
       "       [ 50],\n",
       "       [ 94],\n",
       "       [153],\n",
       "       [ 79],\n",
       "       [ 88],\n",
       "       [ 94],\n",
       "       [132],\n",
       "       [ 52],\n",
       "       [133],\n",
       "       [ 83],\n",
       "       [184],\n",
       "       [ 65],\n",
       "       [108],\n",
       "       [178],\n",
       "       [ 74],\n",
       "       [129],\n",
       "       [ 69],\n",
       "       [135],\n",
       "       [113],\n",
       "       [ 99],\n",
       "       [133],\n",
       "       [143],\n",
       "       [132],\n",
       "       [114],\n",
       "       [165],\n",
       "       [108],\n",
       "       [ 65],\n",
       "       [ 93],\n",
       "       [107],\n",
       "       [183],\n",
       "       [ 54],\n",
       "       [ 84],\n",
       "       [ 93],\n",
       "       [ 74],\n",
       "       [123],\n",
       "       [ 84]])"
      ]
     },
     "execution_count": 18,
     "metadata": {},
     "output_type": "execute_result"
    }
   ],
   "source": [
    "X_test"
   ]
  },
  {
   "cell_type": "code",
   "execution_count": 19,
   "id": "57916943",
   "metadata": {},
   "outputs": [
    {
     "data": {
      "text/plain": [
       "(125, 1)"
      ]
     },
     "execution_count": 19,
     "metadata": {},
     "output_type": "execute_result"
    }
   ],
   "source": [
    "X_test.shape"
   ]
  },
  {
   "cell_type": "code",
   "execution_count": 20,
   "id": "42caf9fc",
   "metadata": {},
   "outputs": [
    {
     "data": {
      "text/plain": [
       "array([0, 0, 0, 0, 0, 0, 0, 1, 1, 0, 1, 1, 0, 0, 1, 1, 1, 1, 0, 1, 0, 0,\n",
       "       0, 0, 1, 0, 1, 0, 1, 1, 1, 0, 0, 0, 1, 1, 0, 0, 0, 0, 0, 1, 0, 0,\n",
       "       1, 1, 1, 1, 1, 1, 0, 0, 0, 0, 0, 0, 0, 0, 1, 0, 0, 0, 1, 0, 1, 1,\n",
       "       0, 1, 0, 0, 1, 1, 1, 1, 0, 0, 1, 1, 0, 1, 1, 0, 1, 0, 0, 1, 1, 1,\n",
       "       1, 0, 1, 1, 0, 0, 1, 1, 0, 1, 0, 1, 0, 0, 1, 0, 0, 0, 1, 0, 0, 1,\n",
       "       1, 0, 0, 1, 1, 0, 0, 0, 1, 0, 0, 0, 0, 1, 0])"
      ]
     },
     "execution_count": 20,
     "metadata": {},
     "output_type": "execute_result"
    }
   ],
   "source": [
    "y_test"
   ]
  },
  {
   "cell_type": "code",
   "execution_count": 21,
   "id": "f3ea3fc0",
   "metadata": {},
   "outputs": [
    {
     "data": {
      "text/plain": [
       "(125,)"
      ]
     },
     "execution_count": 21,
     "metadata": {},
     "output_type": "execute_result"
    }
   ],
   "source": [
    "y_test.shape"
   ]
  },
  {
   "cell_type": "markdown",
   "id": "23aecd65",
   "metadata": {},
   "source": [
    "### K Nearest Neighbours "
   ]
  },
  {
   "cell_type": "code",
   "execution_count": 22,
   "id": "cd458424",
   "metadata": {},
   "outputs": [],
   "source": [
    "from sklearn.neighbors import KNeighborsClassifier"
   ]
  },
  {
   "cell_type": "code",
   "execution_count": 23,
   "id": "1af574fa",
   "metadata": {},
   "outputs": [],
   "source": [
    "clf = KNeighborsClassifier(3)"
   ]
  },
  {
   "cell_type": "code",
   "execution_count": 24,
   "id": "203761f8",
   "metadata": {},
   "outputs": [
    {
     "data": {
      "text/plain": [
       "KNeighborsClassifier(n_neighbors=3)"
      ]
     },
     "execution_count": 24,
     "metadata": {},
     "output_type": "execute_result"
    }
   ],
   "source": [
    "clf.fit(X_train, y_train)"
   ]
  },
  {
   "cell_type": "code",
   "execution_count": 25,
   "id": "6d701b2b",
   "metadata": {},
   "outputs": [],
   "source": [
    "y_predicted = clf.predict(X_test)"
   ]
  },
  {
   "cell_type": "code",
   "execution_count": 26,
   "id": "93e89e29",
   "metadata": {},
   "outputs": [
    {
     "data": {
      "text/plain": [
       "array([0, 0, 0, 0, 0, 0, 0, 1, 0, 0, 0, 1, 0, 0, 0, 1, 0, 0, 1, 1, 0, 0,\n",
       "       0, 0, 0, 0, 1, 0, 1, 0, 1, 0, 0, 0, 1, 1, 0, 0, 0, 0, 0, 0, 0, 0,\n",
       "       1, 1, 0, 1, 0, 1, 1, 0, 0, 0, 0, 0, 1, 1, 1, 0, 0, 0, 1, 0, 0, 0,\n",
       "       0, 1, 0, 0, 0, 0, 1, 1, 1, 0, 1, 1, 0, 1, 0, 0, 1, 0, 0, 1, 1, 1,\n",
       "       0, 0, 0, 1, 0, 0, 0, 1, 0, 1, 0, 1, 0, 1, 1, 0, 0, 0, 1, 0, 0, 1,\n",
       "       1, 1, 0, 1, 1, 0, 0, 1, 1, 0, 0, 0, 0, 1, 0])"
      ]
     },
     "execution_count": 26,
     "metadata": {},
     "output_type": "execute_result"
    }
   ],
   "source": [
    "y_predicted"
   ]
  },
  {
   "cell_type": "code",
   "execution_count": 27,
   "id": "efa4cbef",
   "metadata": {},
   "outputs": [
    {
     "data": {
      "text/plain": [
       "array([0, 0, 0, 0, 0, 0, 0, 1, 1, 0, 1, 1, 0, 0, 1, 1, 1, 1, 0, 1, 0, 0,\n",
       "       0, 0, 1, 0, 1, 0, 1, 1, 1, 0, 0, 0, 1, 1, 0, 0, 0, 0, 0, 1, 0, 0,\n",
       "       1, 1, 1, 1, 1, 1, 0, 0, 0, 0, 0, 0, 0, 0, 1, 0, 0, 0, 1, 0, 1, 1,\n",
       "       0, 1, 0, 0, 1, 1, 1, 1, 0, 0, 1, 1, 0, 1, 1, 0, 1, 0, 0, 1, 1, 1,\n",
       "       1, 0, 1, 1, 0, 0, 1, 1, 0, 1, 0, 1, 0, 0, 1, 0, 0, 0, 1, 0, 0, 1,\n",
       "       1, 0, 0, 1, 1, 0, 0, 0, 1, 0, 0, 0, 0, 1, 0])"
      ]
     },
     "execution_count": 27,
     "metadata": {},
     "output_type": "execute_result"
    }
   ],
   "source": [
    "y_test"
   ]
  },
  {
   "cell_type": "code",
   "execution_count": 28,
   "id": "ab76fe00",
   "metadata": {},
   "outputs": [],
   "source": [
    "from sklearn.metrics import confusion_matrix"
   ]
  },
  {
   "cell_type": "code",
   "execution_count": 29,
   "id": "53550f9e",
   "metadata": {},
   "outputs": [
    {
     "name": "stdout",
     "output_type": "stream",
     "text": [
      "Confusion Matrix:\n",
      " [[62  8]\n",
      " [18 37]]\n"
     ]
    }
   ],
   "source": [
    "cm = confusion_matrix(y_test, y_predicted)\n",
    "print(\"Confusion Matrix:\\n\", cm)"
   ]
  },
  {
   "cell_type": "code",
   "execution_count": 30,
   "id": "5e4a5f53",
   "metadata": {},
   "outputs": [],
   "source": [
    "from sklearn.metrics import classification_report"
   ]
  },
  {
   "cell_type": "code",
   "execution_count": 31,
   "id": "347872e1",
   "metadata": {},
   "outputs": [
    {
     "name": "stdout",
     "output_type": "stream",
     "text": [
      "              precision    recall  f1-score   support\n",
      "\n",
      "           0       0.78      0.89      0.83        70\n",
      "           1       0.82      0.67      0.74        55\n",
      "\n",
      "    accuracy                           0.79       125\n",
      "   macro avg       0.80      0.78      0.78       125\n",
      "weighted avg       0.80      0.79      0.79       125\n",
      "\n"
     ]
    }
   ],
   "source": [
    "print(classification_report(y_test,y_predicted))"
   ]
  },
  {
   "cell_type": "markdown",
   "id": "91d86478",
   "metadata": {},
   "source": [
    "### Decision Tree"
   ]
  },
  {
   "cell_type": "code",
   "execution_count": 32,
   "id": "ecb4f921",
   "metadata": {},
   "outputs": [],
   "source": [
    "from sklearn.tree import DecisionTreeClassifier"
   ]
  },
  {
   "cell_type": "code",
   "execution_count": 33,
   "id": "85a41c40",
   "metadata": {},
   "outputs": [],
   "source": [
    "clf = DecisionTreeClassifier()"
   ]
  },
  {
   "cell_type": "code",
   "execution_count": 34,
   "id": "dfd512d7",
   "metadata": {},
   "outputs": [],
   "source": [
    "fit = clf.fit(X_train, y_train)"
   ]
  },
  {
   "cell_type": "code",
   "execution_count": 35,
   "id": "e905a189",
   "metadata": {},
   "outputs": [],
   "source": [
    "y_predicted = fit.predict(X_test)"
   ]
  },
  {
   "cell_type": "code",
   "execution_count": 36,
   "id": "dc682dfa",
   "metadata": {},
   "outputs": [
    {
     "data": {
      "text/plain": [
       "array([0, 0, 0, 0, 0, 1, 0, 1, 1, 0, 0, 1, 0, 0, 0, 1, 0, 1, 1, 1, 0, 0,\n",
       "       1, 0, 0, 0, 1, 0, 1, 1, 1, 0, 0, 0, 1, 1, 0, 0, 0, 0, 0, 0, 0, 0,\n",
       "       1, 1, 0, 1, 0, 0, 1, 0, 0, 1, 0, 0, 0, 0, 1, 0, 0, 0, 1, 0, 0, 0,\n",
       "       0, 1, 0, 0, 0, 0, 1, 1, 0, 0, 0, 1, 0, 1, 0, 0, 1, 0, 0, 1, 1, 1,\n",
       "       1, 0, 0, 1, 0, 0, 0, 1, 0, 1, 0, 1, 0, 0, 1, 0, 0, 0, 1, 0, 0, 1,\n",
       "       1, 1, 1, 1, 0, 0, 0, 0, 1, 0, 0, 0, 0, 1, 0])"
      ]
     },
     "execution_count": 36,
     "metadata": {},
     "output_type": "execute_result"
    }
   ],
   "source": [
    "y_predicted"
   ]
  },
  {
   "cell_type": "code",
   "execution_count": 37,
   "id": "b64df67e",
   "metadata": {},
   "outputs": [
    {
     "data": {
      "text/plain": [
       "(125,)"
      ]
     },
     "execution_count": 37,
     "metadata": {},
     "output_type": "execute_result"
    }
   ],
   "source": [
    "y_predicted.shape"
   ]
  },
  {
   "cell_type": "code",
   "execution_count": 38,
   "id": "c3d800de",
   "metadata": {},
   "outputs": [
    {
     "name": "stdout",
     "output_type": "stream",
     "text": [
      "Confusion Matrix:\n",
      " [[63  7]\n",
      " [17 38]]\n"
     ]
    }
   ],
   "source": [
    "cm = confusion_matrix(y_test, y_predicted)\n",
    "print(\"Confusion Matrix:\\n\", cm)"
   ]
  },
  {
   "cell_type": "code",
   "execution_count": 39,
   "id": "333cfa66",
   "metadata": {
    "scrolled": true
   },
   "outputs": [
    {
     "name": "stdout",
     "output_type": "stream",
     "text": [
      "              precision    recall  f1-score   support\n",
      "\n",
      "           0       0.79      0.90      0.84        70\n",
      "           1       0.84      0.69      0.76        55\n",
      "\n",
      "    accuracy                           0.81       125\n",
      "   macro avg       0.82      0.80      0.80       125\n",
      "weighted avg       0.81      0.81      0.80       125\n",
      "\n"
     ]
    }
   ],
   "source": [
    "print(classification_report(y_test,y_predicted))"
   ]
  },
  {
   "cell_type": "markdown",
   "id": "9e8ceb74",
   "metadata": {},
   "source": [
    "## Picnic vs Sports"
   ]
  },
  {
   "cell_type": "markdown",
   "id": "f8db2522",
   "metadata": {},
   "source": [
    "### Generating train/test set"
   ]
  },
  {
   "cell_type": "code",
   "execution_count": 40,
   "id": "0cce19d8",
   "metadata": {},
   "outputs": [],
   "source": [
    "df['Picnic_interest'] = (df['Picnic'] > df['Picnic'].mean()).astype(int)"
   ]
  },
  {
   "cell_type": "code",
   "execution_count": 41,
   "id": "174cdca1",
   "metadata": {},
   "outputs": [],
   "source": [
    "# Define features X and target Y\n",
    "X = df[['Sports']].values\n",
    "y = df['Picnic_interest'].values"
   ]
  },
  {
   "cell_type": "code",
   "execution_count": 42,
   "id": "7f712a88",
   "metadata": {},
   "outputs": [],
   "source": [
    "X_train, X_test, y_train, y_test = train_test_split(X,y,test_size=0.50,random_state=4)"
   ]
  },
  {
   "cell_type": "code",
   "execution_count": 43,
   "id": "2748c0df",
   "metadata": {
    "scrolled": true
   },
   "outputs": [
    {
     "data": {
      "text/plain": [
       "array([[22],\n",
       "       [ 6],\n",
       "       [18],\n",
       "       [ 4],\n",
       "       [22],\n",
       "       [12],\n",
       "       [10],\n",
       "       [12],\n",
       "       [18],\n",
       "       [22],\n",
       "       [18],\n",
       "       [12],\n",
       "       [18],\n",
       "       [12],\n",
       "       [18],\n",
       "       [12],\n",
       "       [18],\n",
       "       [10],\n",
       "       [ 3],\n",
       "       [14],\n",
       "       [ 8],\n",
       "       [ 8],\n",
       "       [ 6],\n",
       "       [ 5],\n",
       "       [ 5],\n",
       "       [14],\n",
       "       [ 6],\n",
       "       [14],\n",
       "       [20],\n",
       "       [ 2],\n",
       "       [18],\n",
       "       [22],\n",
       "       [ 4],\n",
       "       [18],\n",
       "       [ 3],\n",
       "       [ 6],\n",
       "       [18],\n",
       "       [ 5],\n",
       "       [ 5],\n",
       "       [18],\n",
       "       [22],\n",
       "       [18],\n",
       "       [12],\n",
       "       [12],\n",
       "       [ 8],\n",
       "       [ 8],\n",
       "       [14],\n",
       "       [ 8],\n",
       "       [12],\n",
       "       [ 3],\n",
       "       [ 5],\n",
       "       [ 6],\n",
       "       [ 6],\n",
       "       [ 4],\n",
       "       [ 6],\n",
       "       [ 6],\n",
       "       [18],\n",
       "       [20],\n",
       "       [18],\n",
       "       [ 4],\n",
       "       [ 6],\n",
       "       [ 5],\n",
       "       [22],\n",
       "       [14],\n",
       "       [18],\n",
       "       [20],\n",
       "       [ 8],\n",
       "       [14],\n",
       "       [20],\n",
       "       [18],\n",
       "       [ 6],\n",
       "       [ 8],\n",
       "       [12],\n",
       "       [14],\n",
       "       [ 2],\n",
       "       [12],\n",
       "       [22],\n",
       "       [ 4],\n",
       "       [22],\n",
       "       [20],\n",
       "       [20],\n",
       "       [16],\n",
       "       [12],\n",
       "       [18],\n",
       "       [22],\n",
       "       [ 6],\n",
       "       [ 4],\n",
       "       [12],\n",
       "       [ 4],\n",
       "       [12],\n",
       "       [20],\n",
       "       [20],\n",
       "       [ 6],\n",
       "       [22],\n",
       "       [18],\n",
       "       [12],\n",
       "       [ 4],\n",
       "       [25],\n",
       "       [ 2],\n",
       "       [12],\n",
       "       [ 4],\n",
       "       [12],\n",
       "       [ 4],\n",
       "       [ 5],\n",
       "       [22],\n",
       "       [12],\n",
       "       [25],\n",
       "       [ 8],\n",
       "       [20],\n",
       "       [ 8],\n",
       "       [ 6],\n",
       "       [12],\n",
       "       [ 6],\n",
       "       [ 8],\n",
       "       [14],\n",
       "       [14],\n",
       "       [25],\n",
       "       [ 8],\n",
       "       [ 6],\n",
       "       [12],\n",
       "       [22],\n",
       "       [20],\n",
       "       [22],\n",
       "       [14]])"
      ]
     },
     "execution_count": 43,
     "metadata": {},
     "output_type": "execute_result"
    }
   ],
   "source": [
    "X_train"
   ]
  },
  {
   "cell_type": "code",
   "execution_count": 44,
   "id": "878dc9ac",
   "metadata": {},
   "outputs": [
    {
     "data": {
      "text/plain": [
       "(124, 1)"
      ]
     },
     "execution_count": 44,
     "metadata": {},
     "output_type": "execute_result"
    }
   ],
   "source": [
    "X_train.shape"
   ]
  },
  {
   "cell_type": "code",
   "execution_count": 45,
   "id": "0776f755",
   "metadata": {},
   "outputs": [
    {
     "data": {
      "text/plain": [
       "array([1, 0, 1, 0, 1, 1, 0, 0, 1, 1, 1, 0, 1, 0, 1, 1, 1, 0, 0, 0, 1, 0,\n",
       "       1, 0, 0, 0, 0, 1, 1, 0, 1, 1, 0, 1, 0, 0, 1, 0, 0, 1, 1, 1, 0, 0,\n",
       "       1, 0, 1, 0, 1, 0, 0, 0, 0, 0, 0, 0, 1, 1, 1, 0, 0, 0, 1, 0, 1, 1,\n",
       "       0, 0, 1, 1, 0, 0, 1, 1, 0, 1, 1, 0, 1, 1, 1, 1, 1, 1, 1, 0, 0, 0,\n",
       "       0, 0, 1, 1, 0, 1, 1, 0, 0, 1, 0, 0, 0, 0, 0, 0, 1, 1, 1, 0, 1, 1,\n",
       "       0, 1, 0, 0, 1, 0, 1, 0, 0, 1, 1, 1, 1, 1])"
      ]
     },
     "execution_count": 45,
     "metadata": {},
     "output_type": "execute_result"
    }
   ],
   "source": [
    "y_train"
   ]
  },
  {
   "cell_type": "code",
   "execution_count": 46,
   "id": "d6c9fa41",
   "metadata": {},
   "outputs": [
    {
     "data": {
      "text/plain": [
       "(124,)"
      ]
     },
     "execution_count": 46,
     "metadata": {},
     "output_type": "execute_result"
    }
   ],
   "source": [
    "y_train.shape"
   ]
  },
  {
   "cell_type": "code",
   "execution_count": 47,
   "id": "bb6fd009",
   "metadata": {
    "scrolled": true
   },
   "outputs": [
    {
     "data": {
      "text/plain": [
       "array([[ 4],\n",
       "       [20],\n",
       "       [ 4],\n",
       "       [ 3],\n",
       "       [ 6],\n",
       "       [20],\n",
       "       [12],\n",
       "       [ 8],\n",
       "       [18],\n",
       "       [ 3],\n",
       "       [12],\n",
       "       [20],\n",
       "       [ 8],\n",
       "       [25],\n",
       "       [ 8],\n",
       "       [22],\n",
       "       [ 4],\n",
       "       [12],\n",
       "       [16],\n",
       "       [22],\n",
       "       [ 8],\n",
       "       [ 4],\n",
       "       [25],\n",
       "       [ 5],\n",
       "       [10],\n",
       "       [ 5],\n",
       "       [ 8],\n",
       "       [ 8],\n",
       "       [20],\n",
       "       [18],\n",
       "       [20],\n",
       "       [14],\n",
       "       [ 3],\n",
       "       [ 3],\n",
       "       [ 6],\n",
       "       [25],\n",
       "       [ 4],\n",
       "       [12],\n",
       "       [ 6],\n",
       "       [ 2],\n",
       "       [ 4],\n",
       "       [12],\n",
       "       [12],\n",
       "       [ 8],\n",
       "       [18],\n",
       "       [25],\n",
       "       [12],\n",
       "       [18],\n",
       "       [12],\n",
       "       [ 4],\n",
       "       [18],\n",
       "       [14],\n",
       "       [ 6],\n",
       "       [12],\n",
       "       [ 6],\n",
       "       [14],\n",
       "       [ 8],\n",
       "       [ 8],\n",
       "       [18],\n",
       "       [18],\n",
       "       [18],\n",
       "       [ 4],\n",
       "       [18],\n",
       "       [ 6],\n",
       "       [14],\n",
       "       [18],\n",
       "       [12],\n",
       "       [25],\n",
       "       [ 5],\n",
       "       [ 3],\n",
       "       [12],\n",
       "       [10],\n",
       "       [18],\n",
       "       [22],\n",
       "       [ 8],\n",
       "       [ 8],\n",
       "       [ 6],\n",
       "       [22],\n",
       "       [14],\n",
       "       [12],\n",
       "       [ 6],\n",
       "       [ 6],\n",
       "       [12],\n",
       "       [ 5],\n",
       "       [ 6],\n",
       "       [14],\n",
       "       [18],\n",
       "       [14],\n",
       "       [ 5],\n",
       "       [ 2],\n",
       "       [ 8],\n",
       "       [22],\n",
       "       [ 5],\n",
       "       [ 5],\n",
       "       [12],\n",
       "       [18],\n",
       "       [ 3],\n",
       "       [ 8],\n",
       "       [ 5],\n",
       "       [22],\n",
       "       [ 5],\n",
       "       [ 8],\n",
       "       [18],\n",
       "       [ 5],\n",
       "       [22],\n",
       "       [ 8],\n",
       "       [14],\n",
       "       [ 8],\n",
       "       [18],\n",
       "       [22],\n",
       "       [20],\n",
       "       [16],\n",
       "       [22],\n",
       "       [10],\n",
       "       [12],\n",
       "       [ 5],\n",
       "       [ 8],\n",
       "       [ 3],\n",
       "       [20],\n",
       "       [ 3],\n",
       "       [ 6],\n",
       "       [ 4],\n",
       "       [ 8],\n",
       "       [12],\n",
       "       [18]])"
      ]
     },
     "execution_count": 47,
     "metadata": {},
     "output_type": "execute_result"
    }
   ],
   "source": [
    "X_test"
   ]
  },
  {
   "cell_type": "code",
   "execution_count": 48,
   "id": "388351ce",
   "metadata": {},
   "outputs": [
    {
     "data": {
      "text/plain": [
       "(125, 1)"
      ]
     },
     "execution_count": 48,
     "metadata": {},
     "output_type": "execute_result"
    }
   ],
   "source": [
    "X_test.shape"
   ]
  },
  {
   "cell_type": "code",
   "execution_count": 49,
   "id": "d602344c",
   "metadata": {},
   "outputs": [
    {
     "data": {
      "text/plain": [
       "array([0, 1, 0, 0, 0, 1, 1, 1, 1, 0, 0, 1, 1, 1, 0, 1, 0, 0, 1, 1, 0, 0,\n",
       "       1, 0, 0, 0, 1, 0, 1, 1, 1, 0, 0, 0, 0, 1, 0, 1, 0, 0, 0, 0, 1, 0,\n",
       "       1, 1, 1, 1, 0, 0, 1, 1, 0, 0, 0, 1, 1, 1, 1, 1, 1, 0, 1, 0, 0, 1,\n",
       "       0, 1, 0, 0, 0, 0, 1, 1, 1, 0, 0, 1, 0, 0, 0, 0, 1, 0, 0, 1, 1, 1,\n",
       "       0, 0, 0, 1, 0, 0, 0, 1, 0, 0, 0, 1, 0, 1, 1, 0, 1, 0, 0, 1, 1, 1,\n",
       "       1, 0, 1, 0, 0, 0, 1, 0, 1, 0, 0, 0, 0, 1, 1])"
      ]
     },
     "execution_count": 49,
     "metadata": {},
     "output_type": "execute_result"
    }
   ],
   "source": [
    "y_test"
   ]
  },
  {
   "cell_type": "code",
   "execution_count": 50,
   "id": "7bd6ffed",
   "metadata": {},
   "outputs": [
    {
     "data": {
      "text/plain": [
       "(125,)"
      ]
     },
     "execution_count": 50,
     "metadata": {},
     "output_type": "execute_result"
    }
   ],
   "source": [
    "y_test.shape"
   ]
  },
  {
   "cell_type": "markdown",
   "id": "2b79f2ba",
   "metadata": {},
   "source": [
    "### K Nearest Neighbours"
   ]
  },
  {
   "cell_type": "code",
   "execution_count": 51,
   "id": "b82e41bc",
   "metadata": {},
   "outputs": [],
   "source": [
    "clf = KNeighborsClassifier(3)"
   ]
  },
  {
   "cell_type": "code",
   "execution_count": 52,
   "id": "5f176449",
   "metadata": {},
   "outputs": [
    {
     "data": {
      "text/plain": [
       "KNeighborsClassifier(n_neighbors=3)"
      ]
     },
     "execution_count": 52,
     "metadata": {},
     "output_type": "execute_result"
    }
   ],
   "source": [
    "clf.fit(X_train, y_train)"
   ]
  },
  {
   "cell_type": "code",
   "execution_count": 53,
   "id": "6602aac7",
   "metadata": {},
   "outputs": [],
   "source": [
    "y_predicted = clf.predict(X_test)"
   ]
  },
  {
   "cell_type": "code",
   "execution_count": 54,
   "id": "32a15fe6",
   "metadata": {},
   "outputs": [
    {
     "data": {
      "text/plain": [
       "array([0, 1, 0, 0, 0, 1, 0, 0, 1, 0, 0, 1, 0, 1, 0, 1, 0, 0, 0, 1, 0, 0,\n",
       "       1, 0, 0, 0, 0, 0, 1, 1, 1, 0, 0, 0, 0, 1, 0, 0, 0, 0, 0, 0, 0, 0,\n",
       "       1, 1, 0, 1, 0, 0, 1, 0, 0, 0, 0, 0, 0, 0, 1, 1, 1, 0, 1, 0, 0, 1,\n",
       "       0, 1, 0, 0, 0, 0, 1, 1, 0, 0, 0, 1, 0, 0, 0, 0, 0, 0, 0, 0, 1, 0,\n",
       "       0, 0, 0, 1, 0, 0, 0, 1, 0, 0, 0, 1, 0, 0, 1, 0, 1, 0, 0, 0, 1, 1,\n",
       "       1, 0, 1, 0, 0, 0, 0, 0, 1, 0, 0, 0, 0, 0, 1])"
      ]
     },
     "execution_count": 54,
     "metadata": {},
     "output_type": "execute_result"
    }
   ],
   "source": [
    "y_predicted"
   ]
  },
  {
   "cell_type": "code",
   "execution_count": 55,
   "id": "c2fa2c99",
   "metadata": {},
   "outputs": [
    {
     "data": {
      "text/plain": [
       "array([0, 1, 0, 0, 0, 1, 1, 1, 1, 0, 0, 1, 1, 1, 0, 1, 0, 0, 1, 1, 0, 0,\n",
       "       1, 0, 0, 0, 1, 0, 1, 1, 1, 0, 0, 0, 0, 1, 0, 1, 0, 0, 0, 0, 1, 0,\n",
       "       1, 1, 1, 1, 0, 0, 1, 1, 0, 0, 0, 1, 1, 1, 1, 1, 1, 0, 1, 0, 0, 1,\n",
       "       0, 1, 0, 0, 0, 0, 1, 1, 1, 0, 0, 1, 0, 0, 0, 0, 1, 0, 0, 1, 1, 1,\n",
       "       0, 0, 0, 1, 0, 0, 0, 1, 0, 0, 0, 1, 0, 1, 1, 0, 1, 0, 0, 1, 1, 1,\n",
       "       1, 0, 1, 0, 0, 0, 1, 0, 1, 0, 0, 0, 0, 1, 1])"
      ]
     },
     "execution_count": 55,
     "metadata": {},
     "output_type": "execute_result"
    }
   ],
   "source": [
    "y_test"
   ]
  },
  {
   "cell_type": "code",
   "execution_count": 56,
   "id": "c9caa0ea",
   "metadata": {},
   "outputs": [
    {
     "name": "stdout",
     "output_type": "stream",
     "text": [
      "Confusion Matrix:\n",
      " [[68  0]\n",
      " [20 37]]\n"
     ]
    }
   ],
   "source": [
    "cm = confusion_matrix(y_test, y_predicted)\n",
    "print(\"Confusion Matrix:\\n\", cm)"
   ]
  },
  {
   "cell_type": "code",
   "execution_count": 57,
   "id": "8de2ca51",
   "metadata": {},
   "outputs": [
    {
     "name": "stdout",
     "output_type": "stream",
     "text": [
      "              precision    recall  f1-score   support\n",
      "\n",
      "           0       0.77      1.00      0.87        68\n",
      "           1       1.00      0.65      0.79        57\n",
      "\n",
      "    accuracy                           0.84       125\n",
      "   macro avg       0.89      0.82      0.83       125\n",
      "weighted avg       0.88      0.84      0.83       125\n",
      "\n"
     ]
    }
   ],
   "source": [
    "print(classification_report(y_test,y_predicted))"
   ]
  },
  {
   "cell_type": "markdown",
   "id": "044447a9",
   "metadata": {},
   "source": [
    "### Decision Tree"
   ]
  },
  {
   "cell_type": "code",
   "execution_count": 58,
   "id": "a369c73b",
   "metadata": {},
   "outputs": [],
   "source": [
    "clf = DecisionTreeClassifier()"
   ]
  },
  {
   "cell_type": "code",
   "execution_count": 59,
   "id": "b5a806f5",
   "metadata": {},
   "outputs": [],
   "source": [
    "fit = clf.fit(X_train, y_train)"
   ]
  },
  {
   "cell_type": "code",
   "execution_count": 60,
   "id": "88a1f448",
   "metadata": {},
   "outputs": [],
   "source": [
    "y_predicted = fit.predict(X_test)"
   ]
  },
  {
   "cell_type": "code",
   "execution_count": 61,
   "id": "667cdff3",
   "metadata": {},
   "outputs": [
    {
     "data": {
      "text/plain": [
       "array([0, 1, 0, 0, 0, 1, 0, 0, 1, 0, 0, 1, 0, 1, 0, 1, 0, 0, 1, 1, 0, 0,\n",
       "       1, 0, 0, 0, 0, 0, 1, 1, 1, 0, 0, 0, 0, 1, 0, 0, 0, 0, 0, 0, 0, 0,\n",
       "       1, 1, 0, 1, 0, 0, 1, 0, 0, 0, 0, 0, 0, 0, 1, 1, 1, 0, 1, 0, 0, 1,\n",
       "       0, 1, 0, 0, 0, 0, 1, 1, 0, 0, 0, 1, 0, 0, 0, 0, 0, 0, 0, 0, 1, 0,\n",
       "       0, 0, 0, 1, 0, 0, 0, 1, 0, 0, 0, 1, 0, 0, 1, 0, 1, 0, 0, 0, 1, 1,\n",
       "       1, 1, 1, 0, 0, 0, 0, 0, 1, 0, 0, 0, 0, 0, 1])"
      ]
     },
     "execution_count": 61,
     "metadata": {},
     "output_type": "execute_result"
    }
   ],
   "source": [
    "y_predicted"
   ]
  },
  {
   "cell_type": "code",
   "execution_count": 62,
   "id": "325a1e33",
   "metadata": {},
   "outputs": [
    {
     "data": {
      "text/plain": [
       "(125,)"
      ]
     },
     "execution_count": 62,
     "metadata": {},
     "output_type": "execute_result"
    }
   ],
   "source": [
    "y_predicted.shape"
   ]
  },
  {
   "cell_type": "code",
   "execution_count": 63,
   "id": "0ae61a70",
   "metadata": {},
   "outputs": [
    {
     "name": "stdout",
     "output_type": "stream",
     "text": [
      "Confusion Matrix:\n",
      " [[67  1]\n",
      " [19 38]]\n"
     ]
    }
   ],
   "source": [
    "cm = confusion_matrix(y_test, y_predicted)\n",
    "print(\"Confusion Matrix:\\n\", cm)"
   ]
  },
  {
   "cell_type": "code",
   "execution_count": 64,
   "id": "594092b5",
   "metadata": {},
   "outputs": [
    {
     "name": "stdout",
     "output_type": "stream",
     "text": [
      "              precision    recall  f1-score   support\n",
      "\n",
      "           0       0.78      0.99      0.87        68\n",
      "           1       0.97      0.67      0.79        57\n",
      "\n",
      "    accuracy                           0.84       125\n",
      "   macro avg       0.88      0.83      0.83       125\n",
      "weighted avg       0.87      0.84      0.83       125\n",
      "\n"
     ]
    }
   ],
   "source": [
    "print(classification_report(y_test,y_predicted))"
   ]
  }
 ],
 "metadata": {
  "kernelspec": {
   "display_name": "Python 3 (ipykernel)",
   "language": "python",
   "name": "python3"
  },
  "language_info": {
   "codemirror_mode": {
    "name": "ipython",
    "version": 3
   },
   "file_extension": ".py",
   "mimetype": "text/x-python",
   "name": "python",
   "nbconvert_exporter": "python",
   "pygments_lexer": "ipython3",
   "version": "3.9.12"
  }
 },
 "nbformat": 4,
 "nbformat_minor": 5
}
